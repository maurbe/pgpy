{
 "cells": [
  {
   "cell_type": "code",
   "execution_count": 2,
   "id": "4c27a075",
   "metadata": {},
   "outputs": [],
   "source": [
    "import numpy as np\n",
    "import pynbody as pn\n",
    "import matplotlib.pyplot as plt\n",
    "\n",
    "import sys\n",
    "sys.path.append('../')\n",
    "from sph_modules import (compute_hsm, \n",
    "                         compute_hsm_tensor)\n",
    "\n",
    "from pgpy import (cic_deposition, \n",
    "                  isotropic_kernel_deposition, \n",
    "                  anisotropic_kernel_deposition)\n",
    "\n",
    "from web import compute_web\n",
    "\n",
    "%matplotlib inline\n",
    "%config InlineBackend.figure_format='retina'"
   ]
  },
  {
   "cell_type": "code",
   "execution_count": 3,
   "id": "74736cf2",
   "metadata": {},
   "outputs": [
    {
     "name": "stderr",
     "output_type": "stream",
     "text": [
      "/home/maurbe/data/conda/envs/wenv/lib/python3.10/site-packages/pynbody/snapshot/gadgethdf.py:555: RuntimeWarning: No unit information found in GadgetHDF file. Using gadget default units.\n",
      "  warnings.warn(\"No unit information found in GadgetHDF file. Using gadget default units.\", RuntimeWarning)\n",
      "/home/maurbe/data/conda/envs/wenv/lib/python3.10/site-packages/pynbody/snapshot/gadgethdf.py:394: UserWarning: Unable to infer units from HDF attributes\n",
      "  warnings.warn(\"Unable to infer units from HDF attributes\")\n"
     ]
    },
    {
     "name": "stdout",
     "output_type": "stream",
     "text": [
      "(1949593, 1)\n"
     ]
    }
   ],
   "source": [
    "ds = pn.load('../../../../../shares/feldmann.ics.mnf.uzh/data/FIREbox/production_runs/FB15N128/snapshot_554.hdf5')\n",
    "\n",
    "\n",
    "boxsize  = 15000\n",
    "NN       = 16\n",
    "periodic = True\n",
    "gridnum  = 100\n",
    "extent   = np.array([0, boxsize])\n",
    "\n",
    "pos      = ds.gas['pos']\n",
    "masses   = ds.gas['mass']\n",
    "\n",
    "\n",
    "# IMPORTANT: hsm (tensor) needs to be computed from the 3d distribution (unless the simulation is 2d)!!\n",
    "hsm = compute_hsm(pos, NN, boxsize)[0]\n",
    "hmat, eλ, ev = compute_hsm_tensor(pos, masses, NN, boxsize)\n",
    "\n",
    "\n",
    "# stack all quantities to deposit\n",
    "# dow we need to average the deposited quantities or not?\n",
    "quantities = masses[:, np.newaxis]\n",
    "averaged   = [False]\n",
    "print(quantities.shape)\n",
    "\n",
    "kwargs = {'positions': pos, \n",
    "          'quantities': quantities, \n",
    "          'averaged': averaged, \n",
    "          'extent': extent, \n",
    "          'gridnum': gridnum, \n",
    "          'periodic': 1}"
   ]
  },
  {
   "cell_type": "markdown",
   "id": "d231dd66",
   "metadata": {},
   "source": [
    "### sph-deposition (3d) and cosmic web classification using T-web\n",
    "This notebook offers a walkthrough of depositing particle mass on 3d grids.\n",
    "+ the particles in a simulation are deposited using a `deposition` strategy\n",
    "+ the (over-) density field is classified using the `T-web` algorithm\n",
    "\n",
    "In the following we compare different `deposition` strategies, namely `cic`, `isotropic` and `anisotropic` quintic kernel.\\\n",
    "Note the drastically increasing runtimes."
   ]
  },
  {
   "cell_type": "code",
   "execution_count": null,
   "id": "8c86ea3a",
   "metadata": {
    "scrolled": false
   },
   "outputs": [
    {
     "name": "stderr",
     "output_type": "stream",
     "text": [
      "100%|██████████| 1949593/1949593 [00:03<00:00, 634652.59it/s]\n",
      "100%|██████████| 1949593/1949593 [00:30<00:00, 64028.66it/s]\n",
      " 31%|███       | 603498/1949593 [05:33<07:53, 2845.66it/s] "
     ]
    }
   ],
   "source": [
    "\n",
    "fields_cic, _ = cic_deposition(**kwargs)\n",
    "\n",
    "#fields_ada, _ = cic_deposition(**kwargs, num_nn=NN)\n",
    "\n",
    "fields_iso, _ = isotropic_kernel_deposition(**kwargs, hsm=hsm)\n",
    "\n",
    "fields_ani, _ = anisotropic_kernel_deposition(**kwargs, hmat=hmat, evals=eλ, evecs=ev)\n"
   ]
  },
  {
   "cell_type": "code",
   "execution_count": null,
   "id": "48e1da62",
   "metadata": {
    "scrolled": false
   },
   "outputs": [],
   "source": [
    "fig, ax = plt.subplots(1, 3, figsize=(18, 12))\n",
    "\n",
    "ax[0].imshow(np.log10(fields_cic[:10,...,0].sum(axis=0)), cmap='bone', vmin=-3)\n",
    "ax[1].imshow(np.log10(fields_iso[:10,...,0].sum(axis=0)), cmap='bone', vmin=-3)\n",
    "ax[2].imshow(np.log10(fields_ani[:10,...,0].sum(axis=0)), cmap='bone', vmin=-3)\n",
    "\n",
    "plt.show()"
   ]
  },
  {
   "cell_type": "markdown",
   "id": "c715b069",
   "metadata": {},
   "source": [
    "#### Cosmic web classification\n",
    "The `T-web` algorithm is a simple comsic web classification scheme based on the eigenvalues of the tidal shear tensor (https://arxiv.org/abs/1705.03021).\n",
    "\\\n",
    "\\\n",
    "The routine `compute_web` has the following steps:\n",
    "1. Compute the overdensity field $\\delta$ using a `deposition` strategy of the particle masses.\n",
    "2. Solve the normalized poisson equation $\\Delta \\phi = \\delta$\n",
    "3. Compute the tidal shear tensor $T_{\\alpha \\beta} = \\frac{\\partial^2 \\phi}{\\partial x \\partial y}$\n",
    "4. Compute the eigenvalues of $T_{\\alpha \\beta}$\n",
    "5. Assign to each voxel the correct label by comparing to $\\lambda_{\\text{th}}$ \\\n",
    "   `0: voids` \\\n",
    "   `1: sheets` \\\n",
    "   `2: filaments` \\\n",
    "   `3: knots`\n",
    "\n",
    "\\\n",
    "Arguments: `mass_grid`= deposited mass on a 3d grid, `thresh`= $\\lambda_{\\text{th}}$\\\n",
    "Below we compare the resulting cosmic web depending on the `deposition` strategy."
   ]
  },
  {
   "cell_type": "code",
   "execution_count": null,
   "id": "36cee5f5",
   "metadata": {},
   "outputs": [],
   "source": [
    "web_cic = compute_web(fields_cic[..., 0], thresh=0.2) # {nx, ny, nz, 1} -> {nx, ny, nz}\n",
    "web_iso = compute_web(fields_iso[..., 0], thresh=0.2) # {nx, ny, nz, 1} -> {nx, ny, nz}\n",
    "web_ani = compute_web(fields_ani[..., 0], thresh=0.2) # {nx, ny, nz, 1} -> {nx, ny, nz}\n",
    "\n",
    "\n",
    "import matplotlib as mpl\n",
    "\n",
    "cmap = plt.cm.viridis\n",
    "cmaplist = [cmap(i) for i in range(cmap.N)]\n",
    "cmap = mpl.colors.LinearSegmentedColormap.from_list('Custom cmap', cmaplist, cmap.N)\n",
    "bounds = np.linspace(0, 4, 5)\n",
    "norm = mpl.colors.BoundaryNorm(bounds, cmap.N)\n",
    "\n",
    "\n",
    "fig, ax = plt.subplots(1, 3, figsize=(18, 12))\n",
    "ax[0].imshow(web_cic[:10, :, :].max(axis=0), cmap=cmap, norm=norm)\n",
    "ax[1].imshow(web_iso[:10, :, :].max(axis=0), cmap=cmap, norm=norm)\n",
    "ax[2].imshow(web_ani[:10, :, :].max(axis=0), cmap=cmap, norm=norm)\n",
    "\n",
    "plt.savefig('plots/cosmic_web.png', transparent=True, dpi=300)\n",
    "plt.show()"
   ]
  },
  {
   "cell_type": "code",
   "execution_count": null,
   "id": "3f537da7",
   "metadata": {},
   "outputs": [],
   "source": []
  }
 ],
 "metadata": {
  "kernelspec": {
   "display_name": "wenv",
   "language": "python",
   "name": "wenv"
  },
  "language_info": {
   "codemirror_mode": {
    "name": "ipython",
    "version": 3
   },
   "file_extension": ".py",
   "mimetype": "text/x-python",
   "name": "python",
   "nbconvert_exporter": "python",
   "pygments_lexer": "ipython3",
   "version": "3.10.12"
  }
 },
 "nbformat": 4,
 "nbformat_minor": 5
}
